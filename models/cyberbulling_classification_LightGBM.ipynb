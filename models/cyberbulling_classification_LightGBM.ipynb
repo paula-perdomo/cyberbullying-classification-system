{
 "cells": [
  {
   "cell_type": "markdown",
   "metadata": {
    "application/vnd.databricks.v1+cell": {
     "cellMetadata": {
      "byteLimit": 2048000,
      "rowLimit": 10000
     },
     "inputWidgets": {},
     "nuid": "7bc07166-4895-4fca-ae11-d4ca3304b50c",
     "showTitle": false,
     "tableResultSettingsMap": {},
     "title": ""
    },
    "id": "CDfN_DXKO2dK"
   },
   "source": [
    "## Configuracion del ambiente y descarga de archivos de datos provenientes de Amazon S3"
   ]
  },
  {
   "cell_type": "code",
   "execution_count": 0,
   "metadata": {
    "application/vnd.databricks.v1+cell": {
     "cellMetadata": {
      "byteLimit": 2048000,
      "rowLimit": 10000
     },
     "inputWidgets": {},
     "nuid": "67d86bcf-5a86-4932-bd7a-53df2ba25615",
     "showTitle": false,
     "tableResultSettingsMap": {},
     "title": ""
    },
    "colab": {
     "base_uri": "https://localhost:8080/"
    },
    "id": "C1a6deh4NYcI",
    "outputId": "b896b92c-d4fa-4ea4-e6ce-1f702a678423"
   },
   "outputs": [
    {
     "output_type": "stream",
     "name": "stdout",
     "output_type": "stream",
     "text": [
      "Requirement already satisfied: boto3 in /databricks/python3/lib/python3.11/site-packages (1.34.39)\nRequirement already satisfied: botocore<1.35.0,>=1.34.39 in /databricks/python3/lib/python3.11/site-packages (from boto3) (1.34.39)\nRequirement already satisfied: jmespath<2.0.0,>=0.7.1 in /databricks/python3/lib/python3.11/site-packages (from boto3) (0.10.0)\nRequirement already satisfied: s3transfer<0.11.0,>=0.10.0 in /databricks/python3/lib/python3.11/site-packages (from boto3) (0.10.3)\nRequirement already satisfied: python-dateutil<3.0.0,>=2.1 in /databricks/python3/lib/python3.11/site-packages (from botocore<1.35.0,>=1.34.39->boto3) (2.8.2)\nRequirement already satisfied: urllib3<2.1,>=1.25.4 in /databricks/python3/lib/python3.11/site-packages (from botocore<1.35.0,>=1.34.39->boto3) (1.26.16)\nRequirement already satisfied: six>=1.5 in /usr/lib/python3/dist-packages (from python-dateutil<3.0.0,>=2.1->botocore<1.35.0,>=1.34.39->boto3) (1.16.0)\n\u001B[43mNote: you may need to restart the kernel using %restart_python or dbutils.library.restartPython() to use updated packages.\u001B[0m\nCollecting wordcloud\n  Downloading wordcloud-1.9.4.tar.gz (27.6 MB)\n\u001B[?25l     \u001B[90m━━━━━━━━━━━━━━━━━━━━━━━━━━━━━━━━━━━━━━━━\u001B[0m \u001B[32m0.0/27.6 MB\u001B[0m \u001B[31m?\u001B[0m eta \u001B[36m-:--:--\u001B[0m\r\u001B[2K     \u001B[91m━━━━━━━━━━━━━━━━━━━━━━━━━━━━\u001B[0m\u001B[90m╺\u001B[0m\u001B[90m━━━━━━━━━━\u001B[0m \u001B[32m19.9/27.6 MB\u001B[0m \u001B[31m129.4 MB/s\u001B[0m eta \u001B[36m0:00:01\u001B[0m\r\u001B[2K     \u001B[90m━━━━━━━━━━━━━━━━━━━━━━━━━━━━━━━━━━━━━━━\u001B[0m \u001B[32m27.6/27.6 MB\u001B[0m \u001B[31m113.2 MB/s\u001B[0m eta \u001B[36m0:00:00\u001B[0m\n\u001B[?25h  Installing build dependencies: started\n  Installing build dependencies: finished with status 'done'\n  Getting requirements to build wheel: started\n  Getting requirements to build wheel: finished with status 'done'\n  Preparing metadata (pyproject.toml): started\n  Preparing metadata (pyproject.toml): finished with status 'done'\nRequirement already satisfied: numpy>=1.6.1 in /databricks/python3/lib/python3.11/site-packages (from wordcloud) (1.23.5)\nRequirement already satisfied: pillow in /databricks/python3/lib/python3.11/site-packages (from wordcloud) (10.3.0)\nRequirement already satisfied: matplotlib in /databricks/python3/lib/python3.11/site-packages (from wordcloud) (3.7.2)\nRequirement already satisfied: contourpy>=1.0.1 in /databricks/python3/lib/python3.11/site-packages (from matplotlib->wordcloud) (1.0.5)\nRequirement already satisfied: cycler>=0.10 in /databricks/python3/lib/python3.11/site-packages (from matplotlib->wordcloud) (0.11.0)\nRequirement already satisfied: fonttools>=4.22.0 in /databricks/python3/lib/python3.11/site-packages (from matplotlib->wordcloud) (4.25.0)\nRequirement already satisfied: kiwisolver>=1.0.1 in /databricks/python3/lib/python3.11/site-packages (from matplotlib->wordcloud) (1.4.4)\nRequirement already satisfied: packaging>=20.0 in /databricks/python3/lib/python3.11/site-packages (from matplotlib->wordcloud) (23.2)\nRequirement already satisfied: pyparsing<3.1,>=2.3.1 in /databricks/python3/lib/python3.11/site-packages (from matplotlib->wordcloud) (3.0.9)\nRequirement already satisfied: python-dateutil>=2.7 in /databricks/python3/lib/python3.11/site-packages (from matplotlib->wordcloud) (2.8.2)\nRequirement already satisfied: six>=1.5 in /usr/lib/python3/dist-packages (from python-dateutil>=2.7->matplotlib->wordcloud) (1.16.0)\nBuilding wheels for collected packages: wordcloud\n  Building wheel for wordcloud (pyproject.toml): started\n  Building wheel for wordcloud (pyproject.toml): finished with status 'done'\n  Created wheel for wordcloud: filename=wordcloud-1.9.4-cp311-cp311-linux_aarch64.whl size=400392 sha256=2ab7a12614521dcc048a6932ec7a7cf28157f500701ccf0778b2999ec61fae8d\n  Stored in directory: /home/spark-b7833be4-3f43-42bc-81ed-d4/.cache/pip/wheels/1d/46/40/0e8bd59213d60c488378ff39099cc45cb114bcb6f8cdd84232\nSuccessfully built wordcloud\nInstalling collected packages: wordcloud\nSuccessfully installed wordcloud-1.9.4\n\u001B[43mNote: you may need to restart the kernel using %restart_python or dbutils.library.restartPython() to use updated packages.\u001B[0m\nCollecting missingno\n  Downloading missingno-0.5.2-py3-none-any.whl.metadata (639 bytes)\nRequirement already satisfied: numpy in /databricks/python3/lib/python3.11/site-packages (from missingno) (1.23.5)\nRequirement already satisfied: matplotlib in /databricks/python3/lib/python3.11/site-packages (from missingno) (3.7.2)\nRequirement already satisfied: scipy in /databricks/python3/lib/python3.11/site-packages (from missingno) (1.11.1)\nRequirement already satisfied: seaborn in /databricks/python3/lib/python3.11/site-packages (from missingno) (0.12.2)\nRequirement already satisfied: contourpy>=1.0.1 in /databricks/python3/lib/python3.11/site-packages (from matplotlib->missingno) (1.0.5)\nRequirement already satisfied: cycler>=0.10 in /databricks/python3/lib/python3.11/site-packages (from matplotlib->missingno) (0.11.0)\nRequirement already satisfied: fonttools>=4.22.0 in /databricks/python3/lib/python3.11/site-packages (from matplotlib->missingno) (4.25.0)\nRequirement already satisfied: kiwisolver>=1.0.1 in /databricks/python3/lib/python3.11/site-packages (from matplotlib->missingno) (1.4.4)\nRequirement already satisfied: packaging>=20.0 in /databricks/python3/lib/python3.11/site-packages (from matplotlib->missingno) (23.2)\nRequirement already satisfied: pillow>=6.2.0 in /databricks/python3/lib/python3.11/site-packages (from matplotlib->missingno) (10.3.0)\nRequirement already satisfied: pyparsing<3.1,>=2.3.1 in /databricks/python3/lib/python3.11/site-packages (from matplotlib->missingno) (3.0.9)\nRequirement already satisfied: python-dateutil>=2.7 in /databricks/python3/lib/python3.11/site-packages (from matplotlib->missingno) (2.8.2)\nRequirement already satisfied: pandas>=0.25 in /databricks/python3/lib/python3.11/site-packages (from seaborn->missingno) (1.5.3)\nRequirement already satisfied: pytz>=2020.1 in /databricks/python3/lib/python3.11/site-packages (from pandas>=0.25->seaborn->missingno) (2022.7)\nRequirement already satisfied: six>=1.5 in /usr/lib/python3/dist-packages (from python-dateutil>=2.7->matplotlib->missingno) (1.16.0)\nDownloading missingno-0.5.2-py3-none-any.whl (8.7 kB)\nInstalling collected packages: missingno\nSuccessfully installed missingno-0.5.2\n\u001B[43mNote: you may need to restart the kernel using %restart_python or dbutils.library.restartPython() to use updated packages.\u001B[0m\nCollecting nltk\n  Downloading nltk-3.9.1-py3-none-any.whl.metadata (2.9 kB)\nRequirement already satisfied: click in /databricks/python3/lib/python3.11/site-packages (from nltk) (8.0.4)\nRequirement already satisfied: joblib in /databricks/python3/lib/python3.11/site-packages (from nltk) (1.2.0)\nCollecting regex>=2021.8.3 (from nltk)\n  Downloading regex-2025.9.1-cp311-cp311-manylinux2014_aarch64.manylinux_2_17_aarch64.manylinux_2_28_aarch64.whl.metadata (40 kB)\nCollecting tqdm (from nltk)\n  Downloading tqdm-4.67.1-py3-none-any.whl.metadata (57 kB)\nDownloading nltk-3.9.1-py3-none-any.whl (1.5 MB)\n\u001B[?25l   \u001B[90m━━━━━━━━━━━━━━━━━━━━━━━━━━━━━━━━━━━━━━━━\u001B[0m \u001B[32m0.0/1.5 MB\u001B[0m \u001B[31m?\u001B[0m eta \u001B[36m-:--:--\u001B[0m\r\u001B[2K   \u001B[90m━━━━━━━━━━━━━━━━━━━━━━━━━━━━━━━━━━━━━━━━\u001B[0m \u001B[32m1.5/1.5 MB\u001B[0m \u001B[31m41.2 MB/s\u001B[0m eta \u001B[36m0:00:00\u001B[0m\n\u001B[?25hDownloading regex-2025.9.1-cp311-cp311-manylinux2014_aarch64.manylinux_2_17_aarch64.manylinux_2_28_aarch64.whl (792 kB)\n\u001B[?25l   \u001B[90m━━━━━━━━━━━━━━━━━━━━━━━━━━━━━━━━━━━━━━━━\u001B[0m \u001B[32m0.0/792.4 kB\u001B[0m \u001B[31m?\u001B[0m eta \u001B[36m-:--:--\u001B[0m\r\u001B[2K   \u001B[90m━━━━━━━━━━━━━━━━━━━━━━━━━━━━━━━━━━━━━━━━\u001B[0m \u001B[32m792.4/792.4 kB\u001B[0m \u001B[31m33.3 MB/s\u001B[0m eta \u001B[36m0:00:00\u001B[0m\n\u001B[?25hDownloading tqdm-4.67.1-py3-none-any.whl (78 kB)\nInstalling collected packages: tqdm, regex, nltk\nSuccessfully installed nltk-3.9.1 regex-2025.9.1 tqdm-4.67.1\n\u001B[43mNote: you may need to restart the kernel using %restart_python or dbutils.library.restartPython() to use updated packages.\u001B[0m\nCollecting mlflow\n  Downloading mlflow-3.3.2-py3-none-any.whl.metadata (30 kB)\nCollecting mlflow-skinny==3.3.2 (from mlflow)\n  Downloading mlflow_skinny-3.3.2-py3-none-any.whl.metadata (31 kB)\nCollecting mlflow-tracing==3.3.2 (from mlflow)\n  Downloading mlflow_tracing-3.3.2-py3-none-any.whl.metadata (19 kB)\nCollecting Flask<4 (from mlflow)\n  Downloading flask-3.1.2-py3-none-any.whl.metadata (3.2 kB)\nCollecting alembic!=1.10.0,<2 (from mlflow)\n  Downloading alembic-1.16.5-py3-none-any.whl.metadata (7.3 kB)\nCollecting cryptography<46,>=43.0.0 (from mlflow)\n  Downloading cryptography-45.0.7-cp311-abi3-manylinux_2_34_aarch64.whl.metadata (5.7 kB)\nCollecting docker<8,>=4.0.0 (from mlflow)\n  Downloading docker-7.1.0-py3-none-any.whl.metadata (3.8 kB)\nCollecting graphene<4 (from mlflow)\n  Downloading graphene-3.4.3-py2.py3-none-any.whl.metadata (6.9 kB)\nCollecting gunicorn<24 (from mlflow)\n  Downloading gunicorn-23.0.0-py3-none-any.whl.metadata (4.4 kB)\nRequirement already satisfied: matplotlib<4 in /databricks/python3/lib/python3.11/site-packages (from mlflow) (3.7.2)\nRequirement already satisfied: numpy<3 in /databricks/python3/lib/python3.11/site-packages (from mlflow) (1.23.5)\nRequirement already satisfied: pandas<3 in /databricks/python3/lib/python3.11/site-packages (from mlflow) (1.5.3)\nRequirement already satisfied: pyarrow<22,>=4.0.0 in /databricks/python3/lib/python3.11/site-packages (from mlflow) (14.0.1)\nRequirement already satisfied: scikit-learn<2 in /databricks/python3/lib/python3.11/site-packages (from mlflow) (1.3.0)\nRequirement already satisfied: scipy<2 in /databricks/python3/lib/python3.11/site-packages (from mlflow) (1.11.1)\nCollecting sqlalchemy<3,>=1.4.0 (from mlflow)\n  Downloading sqlalchemy-2.0.43-cp311-cp311-manylinux_2_17_aarch64.manylinux2014_aarch64.whl.metadata (9.6 kB)\nRequirement already satisfied: cachetools<7,>=5.0.0 in /databricks/python3/lib/python3.11/site-packages (from mlflow-skinny==3.3.2->mlflow) (5.5.0)\nRequirement already satisfied: click<9,>=7.0 in /databricks/python3/lib/python3.11/site-packages (from mlflow-skinny==3.3.2->mlflow) (8.0.4)\nRequirement already satisfied: cloudpickle<4 in /databricks/python3/lib/python3.11/site-packages (from mlflow-skinny==3.3.2->mlflow) (3.0.0)\nRequirement already satisfied: databricks-sdk<1,>=0.20.0 in /databricks/python3/lib/python3.11/site-packages (from mlflow-skinny==3.3.2->mlflow) (0.40.0)\nCollecting fastapi<1 (from mlflow-skinny==3.3.2->mlflow)\n  Downloading fastapi-0.116.1-py3-none-any.whl.metadata (28 kB)\nRequirement already satisfied: gitpython<4,>=3.1.9 in /databricks/python3/lib/python3.11/site-packages (from mlflow-skinny==3.3.2->mlflow) (3.1.43)\nRequirement already satisfied: importlib_metadata!=4.7.0,<9,>=3.7.0 in /databricks/python3/lib/python3.11/site-packages (from mlflow-skinny==3.3.2->mlflow) (6.0.0)\nCollecting opentelemetry-api<3,>=1.9.0 (from mlflow-skinny==3.3.2->mlflow)\n  Downloading opentelemetry_api-1.36.0-py3-none-any.whl.metadata (1.5 kB)\nCollecting opentelemetry-sdk<3,>=1.9.0 (from mlflow-skinny==3.3.2->mlflow)\n  Downloading opentelemetry_sdk-1.36.0-py3-none-any.whl.metadata (1.5 kB)\nRequirement already satisfied: packaging<26 in /databricks/python3/lib/python3.11/site-packages (from mlflow-skinny==3.3.2->mlflow) (23.2)\nRequirement already satisfied: protobuf<7,>=3.12.0 in /databricks/python3/lib/python3.11/site-packages (from mlflow-skinny==3.3.2->mlflow) (5.29.3)\nCollecting pydantic<3,>=1.10.8 (from mlflow-skinny==3.3.2->mlflow)\n  Downloading pydantic-2.11.7-py3-none-any.whl.metadata (67 kB)\nRequirement already satisfied: pyyaml<7,>=5.1 in /databricks/python3/lib/python3.11/site-packages (from mlflow-skinny==3.3.2->mlflow) (6.0)\nRequirement already satisfied: requests<3,>=2.17.3 in /databricks/python3/lib/python3.11/site-packages (from mlflow-skinny==3.3.2->mlflow) (2.31.0)\nRequirement already satisfied: sqlparse<1,>=0.4.0 in /databricks/python3/lib/python3.11/site-packages (from mlflow-skinny==3.3.2->mlflow) (0.5.1)\nRequirement already satisfied: typing-extensions<5,>=4.0.0 in /databricks/python3/lib/python3.11/site-packages (from mlflow-skinny==3.3.2->mlflow) (4.10.0)\nCollecting uvicorn<1 (from mlflow-skinny==3.3.2->mlflow)\n  Downloading uvicorn-0.35.0-py3-none-any.whl.metadata (6.5 kB)\nCollecting Mako (from alembic!=1.10.0,<2->mlflow)\n  Downloading mako-1.3.10-py3-none-any.whl.metadata (2.9 kB)\nCollecting typing-extensions<5,>=4.0.0 (from mlflow-skinny==3.3.2->mlflow)\n  Downloading typing_extensions-4.15.0-py3-none-any.whl.metadata (3.3 kB)\nRequirement already satisfied: cffi>=1.14 in /databricks/python3/lib/python3.11/site-packages (from cryptography<46,>=43.0.0->mlflow) (1.15.1)\nRequirement already satisfied: urllib3>=1.26.0 in /databricks/python3/lib/python3.11/site-packages (from docker<8,>=4.0.0->mlflow) (1.26.16)\nCollecting blinker>=1.9.0 (from Flask<4->mlflow)\n  Downloading blinker-1.9.0-py3-none-any.whl.metadata (1.6 kB)\nCollecting click<9,>=7.0 (from mlflow-skinny==3.3.2->mlflow)\n  Downloading click-8.2.1-py3-none-any.whl.metadata (2.5 kB)\nCollecting itsdangerous>=2.2.0 (from Flask<4->mlflow)\n  Downloading itsdangerous-2.2.0-py3-none-any.whl.metadata (1.9 kB)\nCollecting jinja2>=3.1.2 (from Flask<4->mlflow)\n  Downloading jinja2-3.1.6-py3-none-any.whl.metadata (2.9 kB)\nCollecting markupsafe>=2.1.1 (from Flask<4->mlflow)\n  Downloading MarkupSafe-3.0.2-cp311-cp311-manylinux_2_17_aarch64.manylinux2014_aarch64.whl.metadata (4.0 kB)\nCollecting werkzeug>=3.1.0 (from Flask<4->mlflow)\n  Downloading werkzeug-3.1.3-py3-none-any.whl.metadata (3.7 kB)\nCollecting graphql-core<3.3,>=3.1 (from graphene<4->mlflow)\n  Downloading graphql_core-3.2.6-py3-none-any.whl.metadata (11 kB)\nCollecting graphql-relay<3.3,>=3.1 (from graphene<4->mlflow)\n  Downloading graphql_relay-3.2.0-py3-none-any.whl.metadata (12 kB)\nRequirement already satisfied: python-dateutil<3,>=2.7.0 in /databricks/python3/lib/python3.11/site-packages (from graphene<4->mlflow) (2.8.2)\nRequirement already satisfied: contourpy>=1.0.1 in /databricks/python3/lib/python3.11/site-packages (from matplotlib<4->mlflow) (1.0.5)\nRequirement already satisfied: cycler>=0.10 in /databricks/python3/lib/python3.11/site-packages (from matplotlib<4->mlflow) (0.11.0)\nRequirement already satisfied: fonttools>=4.22.0 in /databricks/python3/lib/python3.11/site-packages (from matplotlib<4->mlflow) (4.25.0)\nRequirement already satisfied: kiwisolver>=1.0.1 in /databricks/python3/lib/python3.11/site-packages (from matplotlib<4->mlflow) (1.4.4)\nRequirement already satisfied: pillow>=6.2.0 in /databricks/python3/lib/python3.11/site-packages (from matplotlib<4->mlflow) (10.3.0)\nRequirement already satisfied: pyparsing<3.1,>=2.3.1 in /databricks/python3/lib/python3.11/site-packages (from matplotlib<4->mlflow) (3.0.9)\nRequirement already satisfied: pytz>=2020.1 in /databricks/python3/lib/python3.11/site-packages (from pandas<3->mlflow) (2022.7)\nRequirement already satisfied: joblib>=1.1.1 in /databricks/python3/lib/python3.11/site-packages (from scikit-learn<2->mlflow) (1.2.0)\nRequirement already satisfied: threadpoolctl>=2.0.0 in /databricks/python3/lib/python3.11/site-packages (from scikit-learn<2->mlflow) (2.2.0)\nCollecting greenlet>=1 (from sqlalchemy<3,>=1.4.0->mlflow)\n  Downloading greenlet-3.2.4-cp311-cp311-manylinux2014_aarch64.manylinux_2_17_aarch64.whl.metadata (4.1 kB)\nRequirement already satisfied: pycparser in /databricks/python3/lib/python3.11/site-packages (from cffi>=1.14->cryptography<46,>=43.0.0->mlflow) (2.21)\nRequirement already satisfied: google-auth~=2.0 in /databricks/python3/lib/python3.11/site-packages (from databricks-sdk<1,>=0.20.0->mlflow-skinny==3.3.2->mlflow) (2.35.0)\nCollecting starlette<0.48.0,>=0.40.0 (from fastapi<1->mlflow-skinny==3.3.2->mlflow)\n  Downloading starlette-0.47.3-py3-none-any.whl.metadata (6.2 kB)\nRequirement already satisfied: gitdb<5,>=4.0.1 in /databricks/python3/lib/python3.11/site-packages (from gitpython<4,>=3.1.9->mlflow-skinny==3.3.2->mlflow) (4.0.11)\nRequirement already satisfied: zipp>=0.5 in /databricks/python3/lib/python3.11/site-packages (from importlib_metadata!=4.7.0,<9,>=3.7.0->mlflow-skinny==3.3.2->mlflow) (3.11.0)\nCollecting opentelemetry-semantic-conventions==0.57b0 (from opentelemetry-sdk<3,>=1.9.0->mlflow-skinny==3.3.2->mlflow)\n  Downloading opentelemetry_semantic_conventions-0.57b0-py3-none-any.whl.metadata (2.4 kB)\nCollecting annotated-types>=0.6.0 (from pydantic<3,>=1.10.8->mlflow-skinny==3.3.2->mlflow)\n  Downloading annotated_types-0.7.0-py3-none-any.whl.metadata (15 kB)\nCollecting pydantic-core==2.33.2 (from pydantic<3,>=1.10.8->mlflow-skinny==3.3.2->mlflow)\n  Downloading pydantic_core-2.33.2-cp311-cp311-manylinux_2_17_aarch64.manylinux2014_aarch64.whl.metadata (6.8 kB)\nCollecting typing-inspection>=0.4.0 (from pydantic<3,>=1.10.8->mlflow-skinny==3.3.2->mlflow)\n  Downloading typing_inspection-0.4.1-py3-none-any.whl.metadata (2.6 kB)\nRequirement already satisfied: six>=1.5 in /usr/lib/python3/dist-packages (from python-dateutil<3,>=2.7.0->graphene<4->mlflow) (1.16.0)\nRequirement already satisfied: charset-normalizer<4,>=2 in /databricks/python3/lib/python3.11/site-packages (from requests<3,>=2.17.3->mlflow-skinny==3.3.2->mlflow) (2.0.4)\nRequirement already satisfied: idna<4,>=2.5 in /databricks/python3/lib/python3.11/site-packages (from requests<3,>=2.17.3->mlflow-skinny==3.3.2->mlflow) (3.4)\nRequirement already satisfied: certifi>=2017.4.17 in /databricks/python3/lib/python3.11/site-packages (from requests<3,>=2.17.3->mlflow-skinny==3.3.2->mlflow) (2023.7.22)\nCollecting h11>=0.8 (from uvicorn<1->mlflow-skinny==3.3.2->mlflow)\n  Downloading h11-0.16.0-py3-none-any.whl.metadata (8.3 kB)\nRequirement already satisfied: smmap<6,>=3.0.1 in /databricks/python3/lib/python3.11/site-packages (from gitdb<5,>=4.0.1->gitpython<4,>=3.1.9->mlflow-skinny==3.3.2->mlflow) (5.0.1)\nRequirement already satisfied: pyasn1-modules>=0.2.1 in /databricks/python3/lib/python3.11/site-packages (from google-auth~=2.0->databricks-sdk<1,>=0.20.0->mlflow-skinny==3.3.2->mlflow) (0.2.8)\nRequirement already satisfied: rsa<5,>=3.1.4 in /databricks/python3/lib/python3.11/site-packages (from google-auth~=2.0->databricks-sdk<1,>=0.20.0->mlflow-skinny==3.3.2->mlflow) (4.9)\nCollecting anyio<5,>=3.6.2 (from starlette<0.48.0,>=0.40.0->fastapi<1->mlflow-skinny==3.3.2->mlflow)\n  Downloading anyio-4.10.0-py3-none-any.whl.metadata (4.0 kB)\nCollecting sniffio>=1.1 (from anyio<5,>=3.6.2->starlette<0.48.0,>=0.40.0->fastapi<1->mlflow-skinny==3.3.2->mlflow)\n  Downloading sniffio-1.3.1-py3-none-any.whl.metadata (3.9 kB)\nRequirement already satisfied: pyasn1<0.5.0,>=0.4.6 in /databricks/python3/lib/python3.11/site-packages (from pyasn1-modules>=0.2.1->google-auth~=2.0->databricks-sdk<1,>=0.20.0->mlflow-skinny==3.3.2->mlflow) (0.4.8)\nDownloading mlflow-3.3.2-py3-none-any.whl (26.4 MB)\n\u001B[?25l   \u001B[90m━━━━━━━━━━━━━━━━━━━━━━━━━━━━━━━━━━━━━━━━\u001B[0m \u001B[32m0.0/26.4 MB\u001B[0m \u001B[31m?\u001B[0m eta \u001B[36m-:--:--\u001B[0m\r\u001B[2K   \u001B[91m━━━━━━━━━━━━━━━━━━━━━━━━━\u001B[0m\u001B[90m╺\u001B[0m\u001B[90m━━━━━━━━━━━━━━\u001B[0m \u001B[32m16.8/26.4 MB\u001B[0m \u001B[31m88.4 MB/s\u001B[0m eta \u001B[36m0:00:01\u001B[0m\r\u001B[2K   \u001B[90m━━━━━━━━━━━━━━━━━━━━━━━━━━━━━━━━━━━━━━━━\u001B[0m \u001B[32m26.4/26.4 MB\u001B[0m \u001B[31m70.4 MB/s\u001B[0m eta \u001B[36m0:00:00\u001B[0m\n\u001B[?25hDownloading mlflow_skinny-3.3.2-py3-none-any.whl (2.0 MB)\n\u001B[?25l   \u001B[90m━━━━━━━━━━━━━━━━━━━━━━━━━━━━━━━━━━━━━━━━\u001B[0m \u001B[32m0.0/2.0 MB\u001B[0m \u001B[31m?\u001B[0m eta \u001B[36m-:--:--\u001B[0m\r\u001B[2K   \u001B[90m━━━━━━━━━━━━━━━━━━━━━━━━━━━━━━━━━━━━━━━━\u001B[0m \u001B[32m2.0/2.0 MB\u001B[0m \u001B[31m64.9 MB/s\u001B[0m eta \u001B[36m0:00:00\u001B[0m\n\u001B[?25hDownloading mlflow_tracing-3.3.2-py3-none-any.whl (1.1 MB)\n\u001B[?25l   \u001B[90m━━━━━━━━━━━━━━━━━━━━━━━━━━━━━━━━━━━━━━━━\u001B[0m \u001B[32m0.0/1.1 MB\u001B[0m \u001B[31m?\u001B[0m eta \u001B[36m-:--:--\u001B[0m\r\u001B[2K   \u001B[90m━━━━━━━━━━━━━━━━━━━━━━━━━━━━━━━━━━━━━━━━\u001B[0m \u001B[32m1.1/1.1 MB\u001B[0m \u001B[31m102.3 MB/s\u001B[0m eta \u001B[36m0:00:00\u001B[0m\n\u001B[?25hDownloading alembic-1.16.5-py3-none-any.whl (247 kB)\nDownloading cryptography-45.0.7-cp311-abi3-manylinux_2_34_aarch64.whl (4.2 MB)\n\u001B[?25l   \u001B[90m━━━━━━━━━━━━━━━━━━━━━━━━━━━━━━━━━━━━━━━━\u001B[0m \u001B[32m0.0/4.2 MB\u001B[0m \u001B[31m?\u001B[0m eta \u001B[36m-:--:--\u001B[0m\r\u001B[2K   \u001B[90m━━━━━━━━━━━━━━━━━━━━━━━━━━━━━━━━━━━━━━━━\u001B[0m \u001B[32m4.2/4.2 MB\u001B[0m \u001B[31m55.8 MB/s\u001B[0m eta \u001B[36m0:00:00\u001B[0m\n\u001B[?25hDownloading docker-7.1.0-py3-none-any.whl (147 kB)\nDownloading flask-3.1.2-py3-none-any.whl (103 kB)\nDownloading graphene-3.4.3-py2.py3-none-any.whl (114 kB)\nDownloading gunicorn-23.0.0-py3-none-any.whl (85 kB)\nDownloading sqlalchemy-2.0.43-cp311-cp311-manylinux_2_17_aarch64.manylinux2014_aarch64.whl (3.3 MB)\n\u001B[?25l   \u001B[90m━━━━━━━━━━━━━━━━━━━━━━━━━━━━━━━━━━━━━━━━\u001B[0m \u001B[32m0.0/3.3 MB\u001B[0m \u001B[31m?\u001B[0m eta \u001B[36m-:--:--\u001B[0m\r\u001B[2K   \u001B[90m━━━━━━━━━━━━━━━━━━━━━━━━━━━━━━━━━━━━━━━━\u001B[0m \u001B[32m3.3/3.3 MB\u001B[0m \u001B[31m118.6 MB/s\u001B[0m eta \u001B[36m0:00:00\u001B[0m\n\u001B[?25hDownloading blinker-1.9.0-py3-none-any.whl (8.5 kB)\nDownloading click-8.2.1-py3-none-any.whl (102 kB)\nDownloading fastapi-0.116.1-py3-none-any.whl (95 kB)\nDownloading graphql_core-3.2.6-py3-none-any.whl (203 kB)\nDownloading graphql_relay-3.2.0-py3-none-any.whl (16 kB)\nDownloading greenlet-3.2.4-cp311-cp311-manylinux2014_aarch64.manylinux_2_17_aarch64.whl (632 kB)\n\u001B[?25l   \u001B[90m━━━━━━━━━━━━━━━━━━━━━━━━━━━━━━━━━━━━━━━━\u001B[0m \u001B[32m0.0/632.5 kB\u001B[0m \u001B[31m?\u001B[0m eta \u001B[36m-:--:--\u001B[0m\r\u001B[2K   \u001B[90m━━━━━━━━━━━━━━━━━━━━━━━━━━━━━━━━━━━━━━━━\u001B[0m \u001B[32m632.5/632.5 kB\u001B[0m \u001B[31m14.2 MB/s\u001B[0m eta \u001B[36m0:00:00\u001B[0m\n\u001B[?25hDownloading itsdangerous-2.2.0-py3-none-any.whl (16 kB)\nDownloading jinja2-3.1.6-py3-none-any.whl (134 kB)\nDownloading MarkupSafe-3.0.2-cp311-cp311-manylinux_2_17_aarch64.manylinux2014_aarch64.whl (23 kB)\nDownloading opentelemetry_api-1.36.0-py3-none-any.whl (65 kB)\nDownloading opentelemetry_sdk-1.36.0-py3-none-any.whl (119 kB)\nDownloading opentelemetry_semantic_conventions-0.57b0-py3-none-any.whl (201 kB)\nDownloading pydantic-2.11.7-py3-none-any.whl (444 kB)\nDownloading pydantic_core-2.33.2-cp311-cp311-manylinux_2_17_aarch64.manylinux2014_aarch64.whl (1.9 MB)\n\u001B[?25l   \u001B[90m━━━━━━━━━━━━━━━━━━━━━━━━━━━━━━━━━━━━━━━━\u001B[0m \u001B[32m0.0/1.9 MB\u001B[0m \u001B[31m?\u001B[0m eta \u001B[36m-:--:--\u001B[0m\r\u001B[2K   \u001B[90m━━━━━━━━━━━━━━━━━━━━━━━━━━━━━━━━━━━━━━━━\u001B[0m \u001B[32m1.9/1.9 MB\u001B[0m \u001B[31m66.3 MB/s\u001B[0m eta \u001B[36m0:00:00\u001B[0m\n\u001B[?25hDownloading typing_extensions-4.15.0-py3-none-any.whl (44 kB)\nDownloading uvicorn-0.35.0-py3-none-any.whl (66 kB)\nDownloading werkzeug-3.1.3-py3-none-any.whl (224 kB)\nDownloading mako-1.3.10-py3-none-any.whl (78 kB)\nDownloading annotated_types-0.7.0-py3-none-any.whl (13 kB)\nDownloading h11-0.16.0-py3-none-any.whl (37 kB)\nDownloading starlette-0.47.3-py3-none-any.whl (72 kB)\nDownloading typing_inspection-0.4.1-py3-none-any.whl (14 kB)\nDownloading anyio-4.10.0-py3-none-any.whl (107 kB)\nDownloading sniffio-1.3.1-py3-none-any.whl (10 kB)\nInstalling collected packages: typing-extensions, sniffio, markupsafe, itsdangerous, h11, gunicorn, greenlet, graphql-core, click, blinker, annotated-types, werkzeug, uvicorn, typing-inspection, sqlalchemy, pydantic-core, opentelemetry-api, Mako, jinja2, graphql-relay, docker, cryptography, anyio, starlette, pydantic, opentelemetry-semantic-conventions, graphene, Flask, alembic, opentelemetry-sdk, fastapi, mlflow-tracing, mlflow-skinny, mlflow\n  Attempting uninstall: typing-extensions\n    Found existing installation: typing_extensions 4.10.0\n    Not uninstalling typing-extensions at /databricks/python3/lib/python3.11/site-packages, outside environment /local_disk0/.ephemeral_nfs/envs/pythonEnv-b7833be4-3f43-42bc-81ed-d482350c656c\n    Can't uninstall 'typing_extensions'. No files were found to uninstall.\n  Attempting uninstall: click\n    Found existing installation: click 8.0.4\n    Not uninstalling click at /databricks/python3/lib/python3.11/site-packages, outside environment /local_disk0/.ephemeral_nfs/envs/pythonEnv-b7833be4-3f43-42bc-81ed-d482350c656c\n    Can't uninstall 'click'. No files were found to uninstall.\n  Attempting uninstall: blinker\n    Found existing installation: blinker 1.4\n    Not uninstalling blinker at /usr/lib/python3/dist-packages, outside environment /local_disk0/.ephemeral_nfs/envs/pythonEnv-b7833be4-3f43-42bc-81ed-d482350c656c\n    Can't uninstall 'blinker'. No files were found to uninstall.\n  Attempting uninstall: cryptography\n    Found existing installation: cryptography 41.0.3\n    Not uninstalling cryptography at /databricks/python3/lib/python3.11/site-packages, outside environment /local_disk0/.ephemeral_nfs/envs/pythonEnv-b7833be4-3f43-42bc-81ed-d482350c656c\n    Can't uninstall 'cryptography'. No files were found to uninstall.\n  Attempting uninstall: pydantic\n    Found existing installation: pydantic 1.10.6\n    Not uninstalling pydantic at /databricks/python3/lib/python3.11/site-packages, outside environment /local_disk0/.ephemeral_nfs/envs/pythonEnv-b7833be4-3f43-42bc-81ed-d482350c656c\n    Can't uninstall 'pydantic'. No files were found to uninstall.\n  Attempting uninstall: mlflow-skinny\n    Found existing installation: mlflow-skinny 2.11.4\n    Not uninstalling mlflow-skinny at /databricks/python3/lib/python3.11/site-packages, outside environment /local_disk0/.ephemeral_nfs/envs/pythonEnv-b7833be4-3f43-42bc-81ed-d482350c656c\n    Can't uninstall 'mlflow-skinny'. No files were found to uninstall.\nSuccessfully installed Flask-3.1.2 Mako-1.3.10 alembic-1.16.5 annotated-types-0.7.0 anyio-4.10.0 blinker-1.9.0 click-8.2.1 cryptography-45.0.7 docker-7.1.0 fastapi-0.116.1 graphene-3.4.3 graphql-core-3.2.6 graphql-relay-3.2.0 greenlet-3.2.4 gunicorn-23.0.0 h11-0.16.0 itsdangerous-2.2.0 jinja2-3.1.6 markupsafe-3.0.2 mlflow-3.3.2 mlflow-skinny-3.3.2 mlflow-tracing-3.3.2 opentelemetry-api-1.36.0 opentelemetry-sdk-1.36.0 opentelemetry-semantic-conventions-0.57b0 pydantic-2.11.7 pydantic-core-2.33.2 sniffio-1.3.1 sqlalchemy-2.0.43 starlette-0.47.3 typing-extensions-4.15.0 typing-inspection-0.4.1 uvicorn-0.35.0 werkzeug-3.1.3\n\u001B[43mNote: you may need to restart the kernel using %restart_python or dbutils.library.restartPython() to use updated packages.\u001B[0m\nCollecting lightGBM\n  Downloading lightgbm-4.6.0-py3-none-manylinux2014_aarch64.whl.metadata (17 kB)\nRequirement already satisfied: numpy>=1.17.0 in /databricks/python3/lib/python3.11/site-packages (from lightGBM) (1.23.5)\nRequirement already satisfied: scipy in /databricks/python3/lib/python3.11/site-packages (from lightGBM) (1.11.1)\nDownloading lightgbm-4.6.0-py3-none-manylinux2014_aarch64.whl (3.5 MB)\n\u001B[?25l   \u001B[90m━━━━━━━━━━━━━━━━━━━━━━━━━━━━━━━━━━━━━━━━\u001B[0m \u001B[32m0.0/3.5 MB\u001B[0m \u001B[31m?\u001B[0m eta \u001B[36m-:--:--\u001B[0m\r\u001B[2K   \u001B[90m━━━━━━━━━━━━━━━━━━━━━━━━━━━━━━━━━━━━━━━━\u001B[0m \u001B[32m3.5/3.5 MB\u001B[0m \u001B[31m63.3 MB/s\u001B[0m eta \u001B[36m0:00:00\u001B[0m\n\u001B[?25hInstalling collected packages: lightGBM\nSuccessfully installed lightGBM-4.6.0\n\u001B[43mNote: you may need to restart the kernel using %restart_python or dbutils.library.restartPython() to use updated packages.\u001B[0m\n"
     ]
    }
   ],
   "source": [
    "%pip install boto3\n",
    "%pip install wordcloud\n",
    "%pip install missingno\n",
    "%pip install nltk\n",
    "%pip install mlflow\n",
    "%pip install lightGBM"
   ]
  },
  {
   "cell_type": "code",
   "execution_count": 0,
   "metadata": {
    "application/vnd.databricks.v1+cell": {
     "cellMetadata": {
      "byteLimit": 2048000,
      "rowLimit": 10000
     },
     "inputWidgets": {},
     "nuid": "fc866d14-e28e-4246-b11e-a3a3af54753b",
     "showTitle": false,
     "tableResultSettingsMap": {},
     "title": ""
    },
    "id": "aFQQEYhsNj8F"
   },
   "outputs": [],
   "source": [
    "import boto3\n",
    "import os\n",
    "\n",
    "AWS_ACCESS_KEY_ID = ''\n",
    "AWS_SECRET_ACCESS_KEY = ''\n",
    "AWS_DEFAULT_REGION = 'us-east-2'\n",
    "\n",
    "s3 = boto3.client(\n",
    "    's3',\n",
    "    aws_access_key_id=AWS_ACCESS_KEY_ID,\n",
    "    aws_secret_access_key=AWS_SECRET_ACCESS_KEY,\n",
    "    region_name=AWS_DEFAULT_REGION\n",
    ")"
   ]
  },
  {
   "cell_type": "code",
   "execution_count": 0,
   "metadata": {
    "application/vnd.databricks.v1+cell": {
     "cellMetadata": {
      "byteLimit": 2048000,
      "rowLimit": 10000
     },
     "inputWidgets": {},
     "nuid": "f6d0f8f0-b703-43a1-8683-448569d94975",
     "showTitle": false,
     "tableResultSettingsMap": {},
     "title": ""
    },
    "colab": {
     "base_uri": "https://localhost:8080/"
    },
    "id": "n0VJLxaFnONs",
    "outputId": "96829310-d7b2-40cc-9d33-21e69d4c2f76"
   },
   "outputs": [
    {
     "output_type": "stream",
     "name": "stdout",
     "output_type": "stream",
     "text": [
      "Cargando datos desde el bucket: s3-cyberbullying-classification-data\nClave del objeto: files/md5/c8/5e2d40bf87b27619f2a4c49fcb9cda\n\n¡Datos cargados con éxito!\n                                          tweet_text cyberbullying_type\n0  In other words #katandandre, your food was cra...  not_cyberbullying\n1  Why is #aussietv so white? #MKR #theblock #ImA...  not_cyberbullying\n2  @XochitlSuckkks a classy whore? Or more red ve...  not_cyberbullying\n3  @Jason_Gio meh. :P  thanks for the heads up, b...  not_cyberbullying\n4  @RudhoeEnglish This is an ISIS account pretend...  not_cyberbullying\n"
     ]
    }
   ],
   "source": [
    "import pandas as pd\n",
    "\n",
    "# --- Configuración de S3 ---\n",
    "# El URI que me proporcionaste\n",
    "s3_uri = \"s3://s3-cyberbullying-classification-data/files/md5/c8/5e2d40bf87b27619f2a4c49fcb9cda\"\n",
    "\n",
    "# Extraemos el bucket y la clave (key) del URI\n",
    "bucket_name = s3_uri.split('/')[2]\n",
    "object_key = '/'.join(s3_uri.split('/')[3:])\n",
    "\n",
    "\n",
    "print(f\"Cargando datos desde el bucket: {bucket_name}\")\n",
    "print(f\"Clave del objeto: {object_key}\")\n",
    "\n",
    "try:\n",
    "    # Obtenemos el objeto desde S3\n",
    "    s3_object = s3.get_object(Bucket=bucket_name, Key=object_key)\n",
    "\n",
    "    # Leemos el contenido del archivo (asumiendo que es un CSV) en un DataFrame\n",
    "    # Nota: Si tu archivo es .json, .txt, etc., cambia pd.read_csv por la función adecuada.\n",
    "    data = pd.read_csv(s3_object['Body'])\n",
    "\n",
    "    # Mostramos las primeras filas para confirmar que se cargó correctamente\n",
    "    print(\"\\n¡Datos cargados con éxito!\")\n",
    "    print(data.head())\n",
    "\n",
    "except Exception as e:\n",
    "    print(f\"Error al cargar los datos: {e}\")"
   ]
  },
  {
   "cell_type": "markdown",
   "metadata": {
    "application/vnd.databricks.v1+cell": {
     "cellMetadata": {
      "byteLimit": 2048000,
      "rowLimit": 10000
     },
     "inputWidgets": {},
     "nuid": "20904fe7-0d98-4d71-9de6-c294bce1288d",
     "showTitle": false,
     "tableResultSettingsMap": {},
     "title": ""
    },
    "id": "EVWsVrKOFsem"
   },
   "source": [
    "## Preprocesamiento y Extracción de Características\n",
    "\n",
    "El preprocesamiento y la extracción de características son el corazón de cualquier proyecto de PLN. Es aquí donde transformamos el texto crudo en información estructurada y numérica que un modelo puede entender.\n",
    "\n",
    "Nuestro objetivo es convertir cada mensaje de texto en un vector numérico. La técnica estándar y más efectiva para comenzar es TF-IDF (Term Frequency-Inverse Document Frequency)."
   ]
  },
  {
   "cell_type": "code",
   "execution_count": 0,
   "metadata": {
    "application/vnd.databricks.v1+cell": {
     "cellMetadata": {
      "byteLimit": 2048000,
      "rowLimit": 10000
     },
     "inputWidgets": {},
     "nuid": "f15a8354-f0a9-4465-afc8-365720b5424b",
     "showTitle": false,
     "tableResultSettingsMap": {},
     "title": ""
    },
    "id": "funxjfwfIo2s"
   },
   "outputs": [],
   "source": [
    "from sklearn.feature_extraction.text import TfidfVectorizer"
   ]
  },
  {
   "cell_type": "markdown",
   "metadata": {
    "application/vnd.databricks.v1+cell": {
     "cellMetadata": {
      "byteLimit": 2048000,
      "rowLimit": 10000
     },
     "inputWidgets": {},
     "nuid": "03724c6d-87ea-4340-8f27-142b78878691",
     "showTitle": false,
     "tableResultSettingsMap": {},
     "title": ""
    },
    "id": "Cw7M_pWzHlkL"
   },
   "source": [
    "### Paso 1: Definir `X` (features) y `y` (target)"
   ]
  },
  {
   "cell_type": "code",
   "execution_count": 0,
   "metadata": {
    "application/vnd.databricks.v1+cell": {
     "cellMetadata": {
      "byteLimit": 2048000,
      "rowLimit": 10000
     },
     "inputWidgets": {},
     "nuid": "6c93e090-083c-4bce-a434-34134ae83700",
     "showTitle": false,
     "tableResultSettingsMap": {},
     "title": ""
    },
    "colab": {
     "base_uri": "https://localhost:8080/"
    },
    "id": "kmUJYglwF3i1",
    "outputId": "33b00008-e9f1-42fc-d3dc-8a430794bfd0"
   },
   "outputs": [
    {
     "output_type": "stream",
     "name": "stdout",
     "output_type": "stream",
     "text": [
      "Variables X (texto) y y (etiquetas) definidas con éxito.\nEjemplos de X:\n0    In other words #katandandre, your food was cra...\n1    Why is #aussietv so white? #MKR #theblock #ImA...\n2    @XochitlSuckkks a classy whore? Or more red ve...\n3    @Jason_Gio meh. :P  thanks for the heads up, b...\n4    @RudhoeEnglish This is an ISIS account pretend...\nName: tweet_text, dtype: object\n\nEjemplos de y:\n0    not_cyberbullying\n1    not_cyberbullying\n2    not_cyberbullying\n3    not_cyberbullying\n4    not_cyberbullying\nName: cyberbullying_type, dtype: object\n"
     ]
    }
   ],
   "source": [
    "X = data['tweet_text']  # La columna que contiene los mensajes de texto\n",
    "y = data['cyberbullying_type'] # La columna con las etiquetas de clasificación\n",
    "\n",
    "print(\"Variables X (texto) y y (etiquetas) definidas con éxito.\")\n",
    "print(\"Ejemplos de X:\")\n",
    "print(X.head())\n",
    "print(\"\\nEjemplos de y:\")\n",
    "print(y.head())"
   ]
  },
  {
   "cell_type": "markdown",
   "metadata": {
    "application/vnd.databricks.v1+cell": {
     "cellMetadata": {
      "byteLimit": 2048000,
      "rowLimit": 10000
     },
     "inputWidgets": {},
     "nuid": "cc8b5f5a-4be9-4d92-ac70-76647252bccc",
     "showTitle": false,
     "tableResultSettingsMap": {},
     "title": ""
    },
    "id": "p7nZVtjjIFkj"
   },
   "source": [
    "### Paso 2: Vectorización con TF-IDF\n",
    "\n",
    "Usaremos TfidfVectorizer de Scikit-learn. Esta herramienta es increíblemente poderosa porque hace varias cosas a la vez:\n",
    "\n",
    "1. Tokeniza el texto (lo divide en palabras).\n",
    "\n",
    "2. Convierte todo a minúsculas.\n",
    "\n",
    "3. Elimina palabras comunes (stop words) que no aportan significado (como 'the', 'is', 'at').\n",
    "\n",
    "4. Calcula los valores TF-IDF para crear los vectores numéricos.\n",
    "\n",
    "TF-IDF le da una puntuación alta a las palabras que son frecuentes en un texto específico pero raras en todo el conjunto de datos. Esto ayuda al modelo a identificar las palabras que realmente definen una categoría."
   ]
  },
  {
   "cell_type": "code",
   "execution_count": 0,
   "metadata": {
    "application/vnd.databricks.v1+cell": {
     "cellMetadata": {
      "byteLimit": 2048000,
      "rowLimit": 10000
     },
     "inputWidgets": {},
     "nuid": "f05f9d52-a6a6-469a-8240-f6f3c406826a",
     "showTitle": false,
     "tableResultSettingsMap": {},
     "title": ""
    },
    "colab": {
     "base_uri": "https://localhost:8080/"
    },
    "id": "Imo9rfx9H_ZN",
    "outputId": "d7bc0ab9-c3b5-48be-aef1-76716aa6286f"
   },
   "outputs": [
    {
     "output_type": "stream",
     "name": "stdout",
     "output_type": "stream",
     "text": [
      "\n¡Vectorización completada!\nLa forma de nuestra nueva matriz de características (X_tfidf) es:\n(47692, 5000)\n"
     ]
    }
   ],
   "source": [
    "# --- Inicializar el Vectorizador TF-IDF ---\n",
    "# Configuramos algunos parámetros importantes:\n",
    "tfidf_vectorizer = TfidfVectorizer(\n",
    "    max_features=5000,       # Limita el vocabulario a las 5000 palabras más importantes.\n",
    "                               # Esto ayuda a evitar el sobreajuste y reduce el ruido.\n",
    "\n",
    "    ngram_range=(1, 2),      # Considera no solo palabras individuales (unigramas), sino también\n",
    "                               # pares de palabras (bigramas). Esto captura contexto, como \"no es bueno\".\n",
    "\n",
    "    stop_words='english'     # Utiliza una lista predefinida de stop words en inglés.\n",
    "                               # Si tus datos están en español, usa una lista personalizada.\n",
    ")\n",
    "\n",
    "\n",
    "# --- Aplicar el Vectorizador a nuestros datos de texto ---\n",
    "# .fit_transform() aprende el vocabulario y transforma X en una matriz numérica.\n",
    "X_tfidf = tfidf_vectorizer.fit_transform(X)\n",
    "\n",
    "\n",
    "# --- Verificar el resultado ---\n",
    "print(\"\\n¡Vectorización completada!\")\n",
    "print(\"La forma de nuestra nueva matriz de características (X_tfidf) es:\")\n",
    "print(X_tfidf.shape)"
   ]
  },
  {
   "cell_type": "markdown",
   "metadata": {
    "application/vnd.databricks.v1+cell": {
     "cellMetadata": {
      "byteLimit": 2048000,
      "rowLimit": 10000
     },
     "inputWidgets": {},
     "nuid": "93863dbc-aa55-4486-8f6c-9acfbce04518",
     "showTitle": false,
     "tableResultSettingsMap": {},
     "title": ""
    },
    "id": "_IlTNfeuI2JU"
   },
   "source": [
    "## Entrenamiento y Evaluación del Modelo\n",
    "\n",
    "Vamos a dividir el proceso en cuatro pasos claros: dividir los datos, entrenar el modelo, hacer predicciones y, lo más importante, evaluar qué tan bueno es nuestro modelo."
   ]
  },
  {
   "cell_type": "code",
   "execution_count": 0,
   "metadata": {
    "application/vnd.databricks.v1+cell": {
     "cellMetadata": {
      "byteLimit": 2048000,
      "rowLimit": 10000
     },
     "inputWidgets": {},
     "nuid": "e6720e9b-46bc-42ad-9650-132868001b28",
     "showTitle": false,
     "tableResultSettingsMap": {},
     "title": ""
    },
    "id": "TWUgOHvbJOcM"
   },
   "outputs": [],
   "source": [
    "from sklearn.model_selection import train_test_split\n",
    "import lightgbm as lgb\n",
    "from sklearn.metrics import classification_report, ConfusionMatrixDisplay, accuracy_score, recall_score\n",
    "import matplotlib.pyplot as plt\n"
   ]
  },
  {
   "cell_type": "markdown",
   "metadata": {
    "application/vnd.databricks.v1+cell": {
     "cellMetadata": {
      "byteLimit": 2048000,
      "rowLimit": 10000
     },
     "inputWidgets": {},
     "nuid": "bb835dc1-c674-4b53-aa98-1836986edc85",
     "showTitle": false,
     "tableResultSettingsMap": {},
     "title": ""
    },
    "id": "dKDXI-baJIBT"
   },
   "source": [
    "### Paso 1: Dividir los Datos en Entrenamiento y Prueba"
   ]
  },
  {
   "cell_type": "code",
   "execution_count": 0,
   "metadata": {
    "application/vnd.databricks.v1+cell": {
     "cellMetadata": {
      "byteLimit": 2048000,
      "rowLimit": 10000
     },
     "inputWidgets": {},
     "nuid": "9544d962-4aec-41b9-b053-16cc55cb67bf",
     "showTitle": false,
     "tableResultSettingsMap": {},
     "title": ""
    },
    "colab": {
     "base_uri": "https://localhost:8080/"
    },
    "id": "oHBtk7bII10r",
    "outputId": "27bf02e2-7862-4e41-9821-7ff9e0bea0b0"
   },
   "outputs": [
    {
     "output_type": "stream",
     "name": "stdout",
     "output_type": "stream",
     "text": [
      "Datos divididos con éxito:\nForma de X_train (entrenamiento): (38153, 5000)\nForma de X_test (prueba): (9539, 5000)\n"
     ]
    }
   ],
   "source": [
    "X_train, X_test, y_train, y_test = train_test_split(\n",
    "    X_tfidf,          # Nuestra matriz de características TF-IDF\n",
    "    y,                # Nuestras etiquetas de clasificación\n",
    "    test_size=0.2,    # Usaremos el 20% de los datos para la prueba\n",
    "    random_state=42,  # Esto asegura que la división sea la misma cada vez que ejecutamos el código\n",
    "    stratify=y        # Garantiza una división balanceada de las etiquetas\n",
    ")\n",
    "\n",
    "print(\"Datos divididos con éxito:\")\n",
    "print(f\"Forma de X_train (entrenamiento): {X_train.shape}\")\n",
    "print(f\"Forma de X_test (prueba): {X_test.shape}\")"
   ]
  },
  {
   "cell_type": "markdown",
   "metadata": {
    "application/vnd.databricks.v1+cell": {
     "cellMetadata": {
      "byteLimit": 2048000,
      "rowLimit": 10000
     },
     "inputWidgets": {},
     "nuid": "b87e6e2b-9bc3-4857-a133-424ce0b93d2f",
     "showTitle": false,
     "tableResultSettingsMap": {},
     "title": ""
    },
    "id": "d1Id33jjJYyn"
   },
   "source": [
    "### Paso 2: Entrenar y Evaluar un Modelo de Regresión Logística"
   ]
  },
  {
   "cell_type": "code",
   "execution_count": 0,
   "metadata": {
    "application/vnd.databricks.v1+cell": {
     "cellMetadata": {
      "byteLimit": 2048000,
      "rowLimit": 10000
     },
     "inputWidgets": {},
     "nuid": "cd1eca14-27bd-4b4b-b86c-adf7ced60add",
     "showTitle": false,
     "tableResultSettingsMap": {},
     "title": ""
    },
    "colab": {
     "base_uri": "https://localhost:8080/",
     "height": 408
    },
    "id": "802khUbLb4hI",
    "outputId": "34b957c4-f64e-47af-e001-e98d4b87637e"
   },
   "outputs": [],
   "source": [
    "import mlflow\n",
    "import mlflow.sklearn\n",
    "import os\n",
    "\n",
    "# Set a timeout for the MLflow trace\n",
    "os.environ[\"MLFLOW_TRACE_TIMEOUT_SECONDS\"] = \"300\"  # Set timeout to 5 minutes\n",
    "\n",
    "# defina el servidor para llevar el registro de modelos y artefactos\n",
    "mlflow.set_tracking_uri('databricks')\n",
    "# registre el experimento\n",
    "EXP_NAME = \"/cyberbullying-classification\"\n",
    "experiment = mlflow.set_experiment(EXP_NAME)"
   ]
  },
  {
   "cell_type": "code",
   "execution_count": 0,
   "metadata": {
    "application/vnd.databricks.v1+cell": {
     "cellMetadata": {
      "byteLimit": 2048000,
      "rowLimit": 10000
     },
     "inputWidgets": {},
     "nuid": "1eb6b0a4-18e5-476e-9724-915ddab71b69",
     "showTitle": false,
     "tableResultSettingsMap": {},
     "title": ""
    },
    "id": "mcQ_nXhaJVsJ"
   },
   "outputs": [
    {
     "output_type": "stream",
     "name": "stdout",
     "output_type": "stream",
     "text": [
      "Entrenando el modelo LightGBM...\n[LightGBM] [Info] Auto-choosing row-wise multi-threading, the overhead of testing was 0.505700 seconds.\nYou can set `force_row_wise=true` to remove the overhead.\nAnd if memory is not enough, you can set `force_col_wise=true`.\n[LightGBM] [Info] Total Bins 112261\n[LightGBM] [Info] Number of data points in the train set: 38153, number of used features: 3716\n[LightGBM] [Info] Start training from score -1.786244\n[LightGBM] [Info] Start training from score -1.790162\n[LightGBM] [Info] Start training from score -1.788750\n[LightGBM] [Info] Start training from score -1.792205\n[LightGBM] [Info] Start training from score -1.807744\n[LightGBM] [Info] Start training from score -1.785619\n¡Modelo entrenado!\n"
     ]
    },
    {
     "output_type": "stream",
     "name": "stderr",
     "output_type": "stream",
     "text": [
      "2025/09/08 01:46:20 WARNING mlflow.models.model: `artifact_path` is deprecated. Please use `name` instead.\n"
     ]
    },
    {
     "output_type": "stream",
     "name": "stdout",
     "output_type": "stream",
     "text": [
      "\nPredicciones realizadas con LightGBM.\n"
     ]
    },
    {
     "output_type": "stream",
     "name": "stderr",
     "output_type": "stream",
     "text": [
      "\uD83D\uDD17 View Logged Model at: https://dbc-9118e40f-64f4.cloud.databricks.com/ml/experiments/1108656627153039/models/m-f7b99c81342c4a2cbeca59d25323233d?o=2526681909255793\n\u001B[31m2025/09/08 01:46:24 WARNING mlflow.models.model: Model logged without a signature and input example. Please set `input_example` parameter when logging the model to auto infer the model signature.\u001B[0m\n"
     ]
    },
    {
     "output_type": "stream",
     "name": "stdout",
     "output_type": "stream",
     "text": [
      "\n--- Reporte de Clasificación (LightGBM) ---\n                     precision    recall  f1-score   support\n\n                age       0.99      0.98      0.99      1598\n          ethnicity       0.99      0.98      0.98      1592\n             gender       0.91      0.85      0.88      1595\n  not_cyberbullying       0.65      0.51      0.57      1589\nother_cyberbullying       0.60      0.78      0.67      1565\n           religion       0.96      0.95      0.96      1600\n\n           accuracy                           0.84      9539\n          macro avg       0.85      0.84      0.84      9539\n       weighted avg       0.85      0.84      0.84      9539\n\n\n--- Matriz de Confusión (LightGBM) ---\n"
     ]
    },
    {
     "output_type": "display_data",
     "data": {
      "image/png": "[encoded data removed]",
      "text/plain": [
       "<Figure size 800x800 with 2 Axes>"
      ]
     },
     "metadata": {},
     "output_type": "display_data"
    },
    {
     "output_type": "stream",
     "name": "stdout",
     "output_type": "stream",
     "text": [
      "\nAccuracy: 0.8428556452458329\n\nRecall: 0.8423899409528119\n"
     ]
    }
   ],
   "source": [
    "with mlflow.start_run(experiment_id=experiment.experiment_id):\n",
    "  # 1. Inicializar el modelo LightGBM\n",
    "  # Usamos los parámetros por defecto, que ya son un punto de partida muy fuerte.\n",
    "  lgbm_model = lgb.LGBMClassifier(random_state=42)\n",
    "\n",
    "  # 2. Entrenar el modelo con los mismos datos de entrenamiento\n",
    "  print(\"Entrenando el modelo LightGBM...\")\n",
    "  lgbm_model.fit(X_train, y_train)\n",
    "  print(\"¡Modelo entrenado!\")\n",
    "\n",
    "  # 3. Realizar predicciones en el conjunto de prueba\n",
    "  y_pred = lgbm_model.predict(X_test)\n",
    "  print(\"\\nPredicciones realizadas con LightGBM.\")\n",
    "\n",
    "  # Registre el modelo\n",
    "  mlflow.sklearn.log_model(lgbm_model, \"light-gbm\")\n",
    "\n",
    "  # 4. Evaluar el nuevo modelo\n",
    "  print(\"\\n--- Reporte de Clasificación (LightGBM) ---\")\n",
    "  print(classification_report(y_test, y_pred))\n",
    "\n",
    "  # 5. Visualizar la nueva Matriz de Confusión\n",
    "  print(\"\\n--- Matriz de Confusión (LightGBM) ---\")\n",
    "  fig, ax = plt.subplots(figsize=(8, 8))\n",
    "  ConfusionMatrixDisplay.from_estimator(lgbm_model, X_test, y_test, xticks_rotation='vertical', ax=ax)\n",
    "  plt.title(\"Matriz de Confusión - LightGBM\")\n",
    "  plt.show()\n",
    "\n",
    "  # 3. Calculo de accuracy\n",
    "  accuracy = accuracy_score(y_test, y_pred)\n",
    "  print(f\"\\nAccuracy: {accuracy}\")\n",
    "\n",
    "  # Cree y registre la métrica de interés\n",
    "  mlflow.log_metric(\"accuracy\", accuracy)\n",
    "\n",
    "  # 4. Calculo de recall\n",
    "  recall = recall_score(y_test, y_pred, average='macro')\n",
    "  print(f\"\\nRecall: {recall}\")\n",
    "  \n",
    "  # Cree y registre la métrica de interés\n",
    "  mlflow.log_metric(\"recall\", recall)\n",
    "\n"
   ]
  }
 ],
 "metadata": {
  "application/vnd.databricks.v1+notebook": {
   "computePreferences": null,
   "dashboards": [],
   "environmentMetadata": null,
   "inputWidgetPreferences": null,
   "language": "python",
   "notebookMetadata": {
    "pythonIndentUnit": 4
   },
   "notebookName": "cyberbulling_classification_LightGBM",
   "widgets": {}
  },
  "colab": {
   "provenance": []
  },
  "kernelspec": {
   "display_name": "Python 3",
   "name": "python3"
  },
  "language_info": {
   "name": "python"
  }
 },
 "nbformat": 4,
 "nbformat_minor": 0
}